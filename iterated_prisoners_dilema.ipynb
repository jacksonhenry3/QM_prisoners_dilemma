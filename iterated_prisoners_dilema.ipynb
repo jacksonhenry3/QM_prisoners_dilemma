{
 "cells": [
  {
   "cell_type": "code",
   "execution_count": 8,
   "id": "fa3931da-3875-4c8f-b1d5-5b0f12b167ad",
   "metadata": {},
   "outputs": [],
   "source": [
    "import numpy as np\n",
    "from scipy.linalg import expm\n",
    "import matplotlib.pyplot as plt\n",
    "from scipy.optimize import minimize"
   ]
  },
  {
   "cell_type": "code",
   "execution_count": 66,
   "id": "9e4cd8a5-927e-4538-93ff-547ffe79cfbf",
   "metadata": {},
   "outputs": [
    {
     "name": "stdout",
     "output_type": "stream",
     "text": [
      "0.7080734182735712\n",
      "1.0\n",
      "3.0\n",
      "5.0\n"
     ]
    }
   ],
   "source": [
    "C = np.array([1, 0]) # |C>\n",
    "D = np.array([0, 1]) # |D>\n",
    "\n",
    "# U(θ, φ); return a 2x2 nparray\n",
    "def U(theta: float, phi: float):\n",
    "    uni = np.array([[np.exp(1j * phi) * np.cos(theta/2), np.sin(theta/2)],\n",
    "                    [-np.sin(theta/2), np.exp(-1j * phi) * np.cos(theta/2)]])\n",
    "    return uni\n",
    "#done in roughly 19 minutes; most of the time was just spent looking up syntax\n",
    "\n",
    "#Define Operators/strategies\n",
    "C_op = U(0, 0)\n",
    "D_op = U(np.pi, 0)\n",
    "Q_op = U(0, np.pi/2)\n",
    "\n",
    "#gamma within the range 0 -> pi/2; entanglement increases as gamma increases\n",
    "#Get unitary Operator J; 9 minutes\n",
    "def J(gamma):\n",
    "    return expm(np.kron(-1j*gamma*D_op, Q_op/2))\n",
    "\n",
    "#get final state vector; should return 4x1 array (complex)\n",
    "#48 minutes; @ not * and forgot conj()\n",
    "def final_state(U_A: np.ndarray, U_B: np.ndarray, J: np.ndarray, initial_state: np.ndarray):\n",
    "    fs_vect = J.conj().transpose() @ np.kron(U_A, U_B) @ J @ initial_state\n",
    "    return fs_vect\n",
    "\n",
    "#Alice's payoff; return a float\n",
    "#24 minutes;\n",
    "def payoff_A(final_state: np.ndarray):\n",
    "\n",
    "    reward = np.array([3,0,5,1])\n",
    "    \n",
    "    return np.abs(final_state)**2@reward\n",
    "\n",
    "def payoff_B(final_state: np.ndarray):\n",
    "\n",
    "    reward = np.array([3,5,0,1])\n",
    "    \n",
    "    return np.abs(final_state)**2@reward\n",
    "\n",
    "def total_payoff(final_state: np.ndarray):\n",
    "\n",
    "    \n",
    "    return payoff_A(final_state)+payoff_B(final_state)\n",
    "    \n",
    "\n",
    "# After implementing these, test with all classical strategies (C and D) to verify correctness.\n",
    "# Tests; 5 minutes\n",
    "print(payoff_A(final_state(C_op, D_op, J(1), np.kron(C,C)))) #Alice Cooperate, Bob Defect -> (1.1248198369963932e-32+0j); essentially 0\n",
    "print(payoff_A(final_state(D_op, D_op, J(0), np.kron(C,C)))) #Alice Defect, Bob Defect -> (1+0j);\n",
    "print(payoff_A(final_state(C_op, C_op, J(0), np.kron(C,C)))) #Alice Cooperate, Bob Cooperate -> (3+0j);\n",
    "print(payoff_A(final_state(D_op, C_op, J(0), np.kron(C,C)))) #Alice Defect, Bob Cooperate -> (5+0j);\n"
   ]
  },
  {
   "cell_type": "code",
   "execution_count": 10,
   "id": "23480294-ed95-481f-921c-0b428dc95e02",
   "metadata": {},
   "outputs": [],
   "source": [
    "def negative_alice_payoff(params, opponent_move):\n",
    "    \"\"\"\n",
    "    Compute the negative of Alice's payoff for given strategy parameters and an opponent's move.\n",
    "    \n",
    "    Parameters:\n",
    "        params (list or tuple): A pair [theta, phi] defining Alice's unitary strategy U(theta, phi).\n",
    "        opponent_move (np.ndarray): Bob's strategy represented as a 2x2 unitary matrix.\n",
    "    \n",
    "    Returns:\n",
    "        float: The negative of Alice's expected payoff computed from the final state of the game.\n",
    "        \n",
    "    Process:\n",
    "        1. Construct Alice's strategy using U(theta, phi) with parameters from 'params'.\n",
    "        2. Prepare the entanglement operator J at maximum entanglement (gamma = π/2).\n",
    "        3. Define the initial state as a tensor product of two |C> states.\n",
    "        4. Compute the final state vector by applying:\n",
    "           a. The entanglement operator J to the initial state.\n",
    "           b. The tensor product of Alice's and Bob's strategies.\n",
    "           c. The inverse of the entanglement operator (via its conjugate transpose).\n",
    "        5. Calculate Alice's payoff using the defined payoff function.\n",
    "        6. Return the negative payoff (often used in optimization contexts where minimization is performed).\n",
    "    \"\"\"\n",
    "    # Extract strategy parameters: theta and phi for Alice's move\n",
    "    theta, phi = params[0], params[1]\n",
    "    \n",
    "    # Compute Alice's unitary strategy using the given parameters\n",
    "    alice_move = U(theta, phi)\n",
    "    \n",
    "    # Maximum entanglement operator (gamma = π/2)\n",
    "    entanglement_operator = J(np.pi/2)\n",
    "    \n",
    "    # Initial state: tensor product of |C> for Alice and |C> for Bob\n",
    "    initial_state = np.kron(C, C)\n",
    "    \n",
    "    # Compute the final state after applying entanglement, strategies, and disentanglement\n",
    "    final = final_state(alice_move, opponent_move, entanglement_operator, initial_state)\n",
    "    \n",
    "    # Calculate Alice's expected payoff from the final state\n",
    "    alice_payoff = payoff_A(final)\n",
    "    \n",
    "    # Return the negative payoff (useful for minimization routines)\n",
    "    return -alice_payoff\n"
   ]
  },
  {
   "cell_type": "code",
   "execution_count": 44,
   "id": "8af887cf-99b3-4a64-b32b-aa6d31959b63",
   "metadata": {},
   "outputs": [
    {
     "data": {
      "text/plain": [
       "np.float64(-3.0)"
      ]
     },
     "execution_count": 44,
     "metadata": {},
     "output_type": "execute_result"
    }
   ],
   "source": [
    "np.real(f([0,0],C_op))"
   ]
  },
  {
   "cell_type": "code",
   "execution_count": 31,
   "id": "ffa0a6f6-259c-452f-a2d7-eead6adc82de",
   "metadata": {},
   "outputs": [],
   "source": [
    "from scipy.optimize import minimize\n",
    "import numpy as np\n",
    "\n",
    "def optimize_strategy(initial_guess, opponent_move):\n",
    "    \"\"\"\n",
    "    Optimize Alice's strategy given an opponent's move by minimizing the negative payoff.\n",
    "\n",
    "    Parameters:\n",
    "        initial_guess (list): Initial guess [theta, phi] for the optimization.\n",
    "        opponent_move (np.ndarray): Opponent's move represented as a 2x2 unitary matrix.\n",
    "\n",
    "    Returns:\n",
    "        tuple: Optimized strategy parameters (theta, phi) from the minimization.\n",
    "    \n",
    "    Process:\n",
    "        - Uses 'minimize' to find the strategy that maximizes Alice's payoff\n",
    "          (by minimizing the negative payoff function negative_alice_payoff).\n",
    "        - The search is bounded: theta ∈ [0, π] and phi ∈ [0, π/2].\n",
    "    \"\"\"\n",
    "    # Boundaries for theta and phi\n",
    "    bounds = [(0, np.pi), (0, np.pi/2)]\n",
    "    \n",
    "    # Perform optimization to minimize negative payoff function negative_alice_payoff\n",
    "    result = minimize(negative_alice_payoff, initial_guess, args=(opponent_move,), bounds=bounds)\n",
    "    \n",
    "    # Extract the optimized strategy parameters\n",
    "    theta_opt, phi_opt = result.x\n",
    "    return theta_opt, phi_opt\n",
    "\n",
    "def has_converged(previous, current, tolerance):\n",
    "    \"\"\"\n",
    "    Check if the strategy parameters have converged.\n",
    "\n",
    "    Parameters:\n",
    "        previous (tuple): Previous strategy parameters (theta, phi).\n",
    "        current (tuple): Current strategy parameters (theta, phi).\n",
    "        tolerance (float): Convergence threshold.\n",
    "    \n",
    "    Returns:\n",
    "        bool: True if both theta and phi changes are within the tolerance, False otherwise.\n",
    "    \"\"\"\n",
    "    theta_prev, phi_prev = previous\n",
    "    theta_curr, phi_curr = current\n",
    "    \n",
    "    # Compute absolute differences for theta and phi\n",
    "    delta_theta = np.abs(theta_curr - theta_prev)\n",
    "    delta_phi = np.abs(phi_curr - phi_prev)\n",
    "    \n",
    "    return (delta_theta <= tolerance) and (delta_phi <= tolerance)\n",
    "\n",
    "def response_chain(start):\n",
    "    \"\"\"\n",
    "    Iteratively optimize Alice's strategy in response to her own previous move.\n",
    "\n",
    "    Parameters:\n",
    "        start (tuple): Initial strategy parameters (theta, phi) for Alice.\n",
    "    \n",
    "    Returns:\n",
    "        int: The number of iterations required for the strategy to converge.\n",
    "    \n",
    "    Process:\n",
    "        1. Initialize the strategy history lists for theta and phi.\n",
    "        2. Set the initial opponent move using U with the starting parameters.\n",
    "        3. Iteratively optimize the strategy using 'optimize_strategy'.\n",
    "           - After each optimization, update the current move.\n",
    "           - Continue until the change in both theta and phi between iterations is below π/500.\n",
    "        4. Return the total iteration count.\n",
    "    \"\"\"\n",
    "    # Convergence tolerance for strategy parameter changes\n",
    "    tolerance = np.pi / 500\n",
    "    \n",
    "    # Initialize lists to store strategy parameters history\n",
    "    thetas = []\n",
    "    phis = []\n",
    "    \n",
    "    # Unpack the initial starting parameters\n",
    "    theta, phi = start\n",
    "    # Dummy initial values to ensure first iteration (values far from any realistic parameter)\n",
    "    thetas.append(100)\n",
    "    phis.append(100)\n",
    "    \n",
    "    # Record the starting strategy parameters\n",
    "    thetas.append(theta)\n",
    "    phis.append(phi)\n",
    "    \n",
    "    # Compute the initial move using the unitary operator U\n",
    "    current_move = U(theta, phi)\n",
    "    \n",
    "    iteration_count = 0\n",
    "    # Continue iterations until both theta and phi converge within the tolerance\n",
    "    print(thetas)\n",
    "    while (np.abs(thetas[-1] - thetas[-2]) > tolerance or \n",
    "           np.abs(phis[-1] - phis[-2]) > tolerance):\n",
    "        iteration_count += 1\n",
    "        \n",
    "        # Initial guess for the optimization; can be updated or kept constant as needed\n",
    "        initial_guess = [np.pi/2, np.pi/4]\n",
    "        \n",
    "        # Optimize strategy given the current opponent move\n",
    "        theta, phi = optimize_strategy(initial_guess, current_move)\n",
    "        print(theta)\n",
    "        \n",
    "        # Append the new strategy parameters to history lists\n",
    "        thetas.append(theta)\n",
    "        phis.append(phi)\n",
    "        \n",
    "        # Update the current move using the optimized strategy parameters\n",
    "        current_move = U(theta, phi)\n",
    "    \n",
    "    # Convert history lists to numpy arrays if needed (excluding the dummy first value)\n",
    "    thetas = np.array(thetas[1:])\n",
    "    phis = np.array(phis[1:])\n",
    "    \n",
    "    return (thetas,phis)\n"
   ]
  },
  {
   "cell_type": "code",
   "execution_count": 32,
   "id": "d6db59ed-efd8-4604-b7d4-fd43e0fd3aff",
   "metadata": {},
   "outputs": [
    {
     "name": "stdout",
     "output_type": "stream",
     "text": [
      "[100, 0]\n",
      "3.141592653589793\n",
      "0.0\n",
      "0.0\n"
     ]
    },
    {
     "name": "stderr",
     "output_type": "stream",
     "text": [
      "/tmp/ipykernel_606961/1613416090.py:19: UserWarning: No data for colormapping provided via 'c'. Parameters 'cmap' will be ignored\n",
      "  plt.scatter(thetas, phis,s = 150, c=colors, cmap='viridis', edgecolor='none', zorder = 100)\n"
     ]
    },
    {
     "data": {
      "image/png": "[encoded data removed]",
      "text/plain": [
       "<Figure size 640x480 with 2 Axes>"
      ]
     },
     "metadata": {},
     "output_type": "display_data"
    }
   ],
   "source": [
    "# Normalize indices for color mapping\n",
    "thetas,phis = response_chain((0,0))\n",
    "\n",
    "indices = np.arange(len(thetas))\n",
    "norm = plt.Normalize(indices.min(), indices.max())\n",
    "colors = plt.cm.viridis(norm(indices))  # Viridis colormap from red to blue\n",
    "\n",
    "# Box around original boundaries\n",
    "plt.plot([0, np.pi, np.pi, 0, 0], [0, 0, np.pi/2, np.pi/2, 0], 'k', linewidth=1)\n",
    "\n",
    "# Adding gridlines\n",
    "plt.xticks(np.arange(0, np.pi + np.pi/10, np.pi/10))\n",
    "plt.yticks(np.arange(0, np.pi/2 + np.pi/10, np.pi/10))\n",
    "plt.grid(visible=True, which='major', color='black', linestyle='-', linewidth=0.5)\n",
    "plt.grid(visible=True, which='minor', color='gray', linestyle='-', linewidth=0.25)\n",
    "plt.minorticks_on()\n",
    "\n",
    "# Plot points with gradient color\n",
    "plt.scatter(thetas, phis,s = 150, c=colors, cmap='viridis', edgecolor='none', zorder = 100)\n",
    "\n",
    "# plt.xlim(-0.1, np.pi + 0.1)  # Adding buffer\n",
    "# plt.ylim(-0.05, np.pi/2 + 0.05)  # Adding buffer\n",
    "ax = plt.gca()\n",
    "ax.set_aspect(1)\n",
    "# Turn off tick labels\n",
    "ax.set_yticklabels([])\n",
    "ax.set_xticklabels([])\n",
    "plt.xlabel('Theta')\n",
    "plt.ylabel('Phi')\n",
    "plt.colorbar(label='Index')  # Add colorbar for reference\n",
    "plt.show()"
   ]
  },
  {
   "cell_type": "code",
   "execution_count": 15,
   "id": "92c05997-2399-429c-8dc6-e3d50070f09e",
   "metadata": {},
   "outputs": [
    {
     "data": {
      "text/plain": [
       "3"
      ]
     },
     "execution_count": 15,
     "metadata": {},
     "output_type": "execute_result"
    }
   ],
   "source": [
    "response_chain([1,1])"
   ]
  },
  {
   "cell_type": "code",
   "execution_count": 216,
   "id": "de4746e9-662e-4581-9abb-f4e9c89abb64",
   "metadata": {},
   "outputs": [],
   "source": [
    "# Define the grid parameters\n",
    "x = np.linspace(0, np.pi, 100)  # 100 points from 0 to pi\n",
    "y = np.linspace(0, np.pi/2, 50)  # 50 points from 0 to pi/2\n",
    "\n",
    "# Create a meshgrid\n",
    "X, Y = np.meshgrid(x, y)\n",
    "\n",
    "# Apply the function element-wise while maintaining the shape\n",
    "results_grid = np.vectorize(lambda x, y: response_chain([x, y]))(X, Y)"
   ]
  },
  {
   "cell_type": "code",
   "execution_count": 217,
   "id": "a68f8bff-61e3-4e5f-8370-a9429afe2161",
   "metadata": {},
   "outputs": [
    {
     "data": {
      "text/plain": [
       "<matplotlib.colorbar.Colorbar at 0x77180c1334c0>"
      ]
     },
     "execution_count": 217,
     "metadata": {},
     "output_type": "execute_result"
    },
    {
     "data": {
      "image/png": "[encoded data removed]",
      "text/plain": [
       "<Figure size 640x480 with 2 Axes>"
      ]
     },
     "metadata": {},
     "output_type": "display_data"
    }
   ],
   "source": [
    "plt.imshow(results_grid)\n",
    "plt.colorbar()"
   ]
  },
  {
   "cell_type": "code",
   "execution_count": 36,
   "id": "281a86d6-59cf-4643-95ae-b8a60802d3be",
   "metadata": {},
   "outputs": [],
   "source": [
    "import numpy as np\n",
    "\n",
    "# Define Pauli matrices\n",
    "I = np.array([[1, 0], [0, 1]])\n",
    "X = np.array([[0, 1], [1, 0]])\n",
    "Y = np.array([[0, -1j], [1j, 0]])\n",
    "Z = np.array([[1, 0], [0, -1]])\n",
    "\n",
    "# Define the quaternion group Q8\n",
    "Q8 = [\n",
    "    np.eye(2),      # Identity\n",
    "    -np.eye(2),     # -Identity\n",
    "    1j * X,        # iX\n",
    "    -1j * X,       # -iX\n",
    "    1j * Y,        # iY\n",
    "    -1j * Y,       # -iY\n",
    "    1j * Z,        # iZ\n",
    "    -1j * Z        # -iZ\n",
    "]"
   ]
  },
  {
   "cell_type": "code",
   "execution_count": 68,
   "id": "c498d86c-131b-46c4-962c-687d6924880e",
   "metadata": {},
   "outputs": [
    {
     "name": "stdout",
     "output_type": "stream",
     "text": [
      "[[6.  6.  3.5 3.5 3.5 3.5 6.  6. ]\n",
      " [6.  6.  3.5 3.5 3.5 3.5 6.  6. ]\n",
      " [5.5 5.5 2.  2.  2.  2.  5.5 5.5]\n",
      " [5.5 5.5 2.  2.  2.  2.  5.5 5.5]\n",
      " [5.  5.  3.5 3.5 3.5 3.5 5.  5. ]\n",
      " [5.  5.  3.5 3.5 3.5 3.5 5.  5. ]\n",
      " [5.5 5.5 5.  5.  5.  5.  5.5 5.5]\n",
      " [5.5 5.5 5.  5.  5.  5.  5.5 5.5]]\n"
     ]
    },
    {
     "data": {
      "image/png": "[encoded data removed]",
      "text/plain": [
       "<Figure size 640x480 with 1 Axes>"
      ]
     },
     "metadata": {},
     "output_type": "display_data"
    }
   ],
   "source": [
    "result1 = np.zeros((8,8))\n",
    "for i,u1 in enumerate(Q8):\n",
    "    for j,u2 in enumerate(Q8):\n",
    "        result1[i,j] = np.round(total_payoff(final_state(Q8[i],Q8[j],J(np.pi/4),np.kron(C, C))),2)\n",
    "\n",
    "\n",
    "result2 = np.zeros((8,8))\n",
    "for i,u1 in enumerate(Q8):\n",
    "    for j,u2 in enumerate(Q8):\n",
    "        result2[i,j] = np.round(payoff_B(final_state(Q8[i],Q8[j],J(np.pi/4),np.kron(C, C))),2)\n",
    "print(result1)\n",
    "plt.show()\n",
    "plt.imshow(result2)\n",
    "plt.show()"
   ]
  },
  {
   "cell_type": "code",
   "execution_count": 63,
   "id": "deccb937-dcab-4f4f-922d-156b10bee2e6",
   "metadata": {},
   "outputs": [
    {
     "name": "stdout",
     "output_type": "stream",
     "text": [
      "[[3.  3.  0.5 0.5 0.5 0.5 3.  3. ]\n",
      " [3.  3.  0.5 0.5 0.5 0.5 3.  3. ]\n",
      " [4.  4.  1.  1.  1.  1.  4.  4. ]\n",
      " [4.  4.  1.  1.  1.  1.  4.  4. ]\n",
      " [5.  5.  0.5 0.5 0.5 0.5 5.  5. ]\n",
      " [5.  5.  0.5 0.5 0.5 0.5 5.  5. ]\n",
      " [4.  4.  0.  0.  0.  0.  4.  4. ]\n",
      " [4.  4.  0.  0.  0.  0.  4.  4. ]]\n",
      "[[3.  3.  3.  3.  3.  3.  3.  3. ]\n",
      " [3.  3.  3.  3.  3.  3.  3.  3. ]\n",
      " [1.5 1.5 1.  1.  1.  1.  1.5 1.5]\n",
      " [1.5 1.5 1.  1.  1.  1.  1.5 1.5]\n",
      " [0.  0.  3.  3.  3.  3.  0.  0. ]\n",
      " [0.  0.  3.  3.  3.  3.  0.  0. ]\n",
      " [1.5 1.5 5.  5.  5.  5.  1.5 1.5]\n",
      " [1.5 1.5 5.  5.  5.  5.  1.5 1.5]]\n"
     ]
    }
   ],
   "source": [
    "print(result1)\n",
    "print(result2)"
   ]
  },
  {
   "cell_type": "code",
   "execution_count": null,
   "id": "a315882b-2be8-480e-aa4a-adbd773fd832",
   "metadata": {},
   "outputs": [],
   "source": []
  }
 ],
 "metadata": {
  "kernelspec": {
   "display_name": "Python 3 (ipykernel)",
   "language": "python",
   "name": "python3"
  },
  "language_info": {
   "codemirror_mode": {
    "name": "ipython",
    "version": 3
   },
   "file_extension": ".py",
   "mimetype": "text/x-python",
   "name": "python",
   "nbconvert_exporter": "python",
   "pygments_lexer": "ipython3",
   "version": "3.13.1"
  }
 },
 "nbformat": 4,
 "nbformat_minor": 5
}
